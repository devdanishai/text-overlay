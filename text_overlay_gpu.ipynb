{
  "nbformat": 4,
  "nbformat_minor": 0,
  "metadata": {
    "colab": {
      "provenance": [],
      "gpuType": "T4",
      "authorship_tag": "ABX9TyNBKqz/jTjOZogEMAaoRQ7z",
      "include_colab_link": true
    },
    "kernelspec": {
      "name": "python3",
      "display_name": "Python 3"
    },
    "language_info": {
      "name": "python"
    },
    "accelerator": "GPU"
  },
  "cells": [
    {
      "cell_type": "markdown",
      "metadata": {
        "id": "view-in-github",
        "colab_type": "text"
      },
      "source": [
        "<a href=\"https://colab.research.google.com/github/devdanishai/text-overlay/blob/main/text_overlay_gpu.ipynb\" target=\"_parent\"><img src=\"https://colab.research.google.com/assets/colab-badge.svg\" alt=\"Open In Colab\"/></a>"
      ]
    },
    {
      "cell_type": "code",
      "source": [
        "# Install required packages\n",
        "#!pip install rembg[gpu] onnxruntime-gpu Pillow\n",
        "!apt-get install -y fonts-roboto  # Install Roboto font\n"
      ],
      "metadata": {
        "colab": {
          "base_uri": "https://localhost:8080/"
        },
        "id": "TUsqZPsoxNnq",
        "outputId": "7acb8576-f93d-41e0-bd7e-7ca0cf935efa"
      },
      "execution_count": 5,
      "outputs": [
        {
          "output_type": "stream",
          "name": "stdout",
          "text": [
            "Reading package lists... Done\n",
            "Building dependency tree... Done\n",
            "Reading state information... Done\n",
            "fonts-roboto is already the newest version (2:0~20170802-3).\n",
            "0 upgraded, 0 newly installed, 0 to remove and 49 not upgraded.\n"
          ]
        }
      ]
    },
    {
      "cell_type": "code",
      "source": [
        "# Import libraries\n",
        "from rembg import remove\n",
        "from PIL import Image, ImageDraw, ImageFont\n",
        "from google.colab import drive\n",
        "from google.colab import files\n",
        "import os\n",
        "\n",
        "# Mount Google Drive\n",
        "drive.mount('/content/drive')\n",
        "\n",
        "# Create paths\n",
        "input_folder = '/content/drive/My Drive/background_removal'\n",
        "output_folder = '/content/drive/My Drive/background_removal/output'\n",
        "\n",
        "# Create output folder if it doesn't exist\n",
        "os.makedirs(output_folder, exist_ok=True)\n",
        "\n",
        "def add_text_to_image(image, text, position=None, font_size=120, text_color=(255, 255, 255, 255)):\n",
        "    \"\"\"Add text to an image with enhanced styling\"\"\"\n",
        "    # Create a transparent overlay for the text\n",
        "    text_overlay = Image.new('RGBA', image.size, (0, 0, 0, 0))\n",
        "    draw = ImageDraw.Draw(text_overlay)\n",
        "\n",
        "    try:\n",
        "        # Try different font options\n",
        "        try:\n",
        "            # Try to use Roboto Bold\n",
        "            font = ImageFont.truetype(\"Roboto-Bold.ttf\", font_size)\n",
        "        except:\n",
        "            try:\n",
        "                # Try system Arial Bold\n",
        "                font = ImageFont.truetype(\"Arial Bold.ttf\", font_size)\n",
        "            except:\n",
        "                # Fallback to DejaVu Sans Bold\n",
        "                font = ImageFont.truetype(\"/usr/share/fonts/truetype/dejavu/DejaVuSans-Bold.ttf\", font_size)\n",
        "    except:\n",
        "        # Last resort fallback\n",
        "        font = ImageFont.load_default()\n",
        "\n",
        "    # Calculate text size\n",
        "    text_bbox = draw.textbbox((0, 0), text, font=font)\n",
        "    text_width = text_bbox[2] - text_bbox[0]\n",
        "    text_height = text_bbox[3] - text_bbox[1]\n",
        "\n",
        "    # If position is not specified, center the text\n",
        "    if position is None:\n",
        "        position = ((image.width - text_width) // 2, (image.height - text_height) // 2)\n",
        "\n",
        "    # Add shadow effect (optional)\n",
        "    shadow_color = (0, 0, 0, 180)  # Semi-transparent black\n",
        "    shadow_offset = 3\n",
        "    draw.text((position[0] + shadow_offset, position[1] + shadow_offset),\n",
        "              text, font=font, fill=shadow_color)\n",
        "\n",
        "    # Add main text\n",
        "    draw.text(position, text, font=font, fill=text_color)\n",
        "\n",
        "    return text_overlay\n",
        "\n",
        "def create_layered_image(original_image, text, removed_bg_image, text_position=None):\n",
        "    \"\"\"Create image with three layers: original image, text, and PNG overlay\"\"\"\n",
        "    # Ensure all images are in RGBA mode\n",
        "    if original_image.mode != 'RGBA':\n",
        "        original_image = original_image.convert('RGBA')\n",
        "    if removed_bg_image.mode != 'RGBA':\n",
        "        removed_bg_image = removed_bg_image.convert('RGBA')\n",
        "\n",
        "    # Create text overlay with larger text\n",
        "    text_overlay = add_text_to_image(\n",
        "        original_image,\n",
        "        text,\n",
        "        position=text_position,\n",
        "        font_size=200,  # Larger font size\n",
        "        text_color=(255, 255, 255, 255)  # Solid white with full opacity\n",
        "    )\n",
        "\n",
        "    # Resize removed background image if needed\n",
        "    if removed_bg_image.size != original_image.size:\n",
        "        removed_bg_image = removed_bg_image.resize(original_image.size, Image.LANCZOS)\n",
        "\n",
        "    # Layer 1: Original image (already set as base)\n",
        "    result = original_image\n",
        "\n",
        "    # Layer 2: Add text overlay\n",
        "    result = Image.alpha_composite(result, text_overlay)\n",
        "\n",
        "    # Layer 3: Add removed background image on top\n",
        "    result = Image.alpha_composite(result, removed_bg_image)\n",
        "\n",
        "    return result\n",
        "\n",
        "def process_from_drive(image_name, text=\"PARTIAL\\nWORLD\"):\n",
        "    input_path = os.path.join(input_folder, image_name)\n",
        "    final_output_path = os.path.join(output_folder, 'layered_' + os.path.splitext(image_name)[0] + '.png')\n",
        "\n",
        "    # Open original image\n",
        "    original_image = Image.open(input_path).convert('RGBA')\n",
        "\n",
        "    # Create removed background version\n",
        "    removed_bg = remove(original_image)\n",
        "\n",
        "    # Create final layered image\n",
        "    final_image = create_layered_image(original_image, text, removed_bg)\n",
        "\n",
        "    # Save final result\n",
        "    final_image.save(final_output_path, format='PNG')\n",
        "    print(f\"Saved to: {final_output_path}\")\n",
        "\n",
        "def process_uploaded_image(text=\"PARTIAL\\nWORLD\"):\n",
        "    print(\"Please select an image to upload:\")\n",
        "    uploaded = files.upload()\n",
        "    filename = next(iter(uploaded))\n",
        "\n",
        "    # Open original image\n",
        "    original_image = Image.open(filename).convert('RGBA')\n",
        "\n",
        "    # Create removed background version\n",
        "    removed_bg = remove(original_image)\n",
        "\n",
        "    # Create final layered image\n",
        "    final_image = create_layered_image(original_image, text, removed_bg)\n",
        "\n",
        "    # Save and download result\n",
        "    final_output_path = os.path.join(output_folder, 'layered_' + os.path.splitext(filename)[0] + '.png')\n",
        "    final_image.save(final_output_path, format='PNG')\n",
        "    print(f\"Saved to: {final_output_path}\")\n",
        "\n",
        "    # Download the result\n",
        "    files.download(final_output_path)\n",
        "\n",
        "# Choose your preferred method:\n",
        "# 1. For image in Drive:\n",
        "# process_from_drive('your_image.jpg', text='PARTIAL\\nWORLD')\n",
        "\n",
        "# 2. For uploading new image:\n",
        "process_uploaded_image(text='DANISH\\nAMMAR')"
      ],
      "metadata": {
        "colab": {
          "base_uri": "https://localhost:8080/",
          "height": 265
        },
        "id": "Tv9TEySTxgti",
        "outputId": "de9ad1a3-b26a-4536-ee3d-ad062f225c56"
      },
      "execution_count": 6,
      "outputs": [
        {
          "output_type": "stream",
          "name": "stdout",
          "text": [
            "Mounted at /content/drive\n",
            "Please select an image to upload:\n"
          ]
        },
        {
          "output_type": "display_data",
          "data": {
            "text/plain": [
              "<IPython.core.display.HTML object>"
            ],
            "text/html": [
              "\n",
              "     <input type=\"file\" id=\"files-450d1ad5-7cd0-446a-b116-f1320f97deb1\" name=\"files[]\" multiple disabled\n",
              "        style=\"border:none\" />\n",
              "     <output id=\"result-450d1ad5-7cd0-446a-b116-f1320f97deb1\">\n",
              "      Upload widget is only available when the cell has been executed in the\n",
              "      current browser session. Please rerun this cell to enable.\n",
              "      </output>\n",
              "      <script>// Copyright 2017 Google LLC\n",
              "//\n",
              "// Licensed under the Apache License, Version 2.0 (the \"License\");\n",
              "// you may not use this file except in compliance with the License.\n",
              "// You may obtain a copy of the License at\n",
              "//\n",
              "//      http://www.apache.org/licenses/LICENSE-2.0\n",
              "//\n",
              "// Unless required by applicable law or agreed to in writing, software\n",
              "// distributed under the License is distributed on an \"AS IS\" BASIS,\n",
              "// WITHOUT WARRANTIES OR CONDITIONS OF ANY KIND, either express or implied.\n",
              "// See the License for the specific language governing permissions and\n",
              "// limitations under the License.\n",
              "\n",
              "/**\n",
              " * @fileoverview Helpers for google.colab Python module.\n",
              " */\n",
              "(function(scope) {\n",
              "function span(text, styleAttributes = {}) {\n",
              "  const element = document.createElement('span');\n",
              "  element.textContent = text;\n",
              "  for (const key of Object.keys(styleAttributes)) {\n",
              "    element.style[key] = styleAttributes[key];\n",
              "  }\n",
              "  return element;\n",
              "}\n",
              "\n",
              "// Max number of bytes which will be uploaded at a time.\n",
              "const MAX_PAYLOAD_SIZE = 100 * 1024;\n",
              "\n",
              "function _uploadFiles(inputId, outputId) {\n",
              "  const steps = uploadFilesStep(inputId, outputId);\n",
              "  const outputElement = document.getElementById(outputId);\n",
              "  // Cache steps on the outputElement to make it available for the next call\n",
              "  // to uploadFilesContinue from Python.\n",
              "  outputElement.steps = steps;\n",
              "\n",
              "  return _uploadFilesContinue(outputId);\n",
              "}\n",
              "\n",
              "// This is roughly an async generator (not supported in the browser yet),\n",
              "// where there are multiple asynchronous steps and the Python side is going\n",
              "// to poll for completion of each step.\n",
              "// This uses a Promise to block the python side on completion of each step,\n",
              "// then passes the result of the previous step as the input to the next step.\n",
              "function _uploadFilesContinue(outputId) {\n",
              "  const outputElement = document.getElementById(outputId);\n",
              "  const steps = outputElement.steps;\n",
              "\n",
              "  const next = steps.next(outputElement.lastPromiseValue);\n",
              "  return Promise.resolve(next.value.promise).then((value) => {\n",
              "    // Cache the last promise value to make it available to the next\n",
              "    // step of the generator.\n",
              "    outputElement.lastPromiseValue = value;\n",
              "    return next.value.response;\n",
              "  });\n",
              "}\n",
              "\n",
              "/**\n",
              " * Generator function which is called between each async step of the upload\n",
              " * process.\n",
              " * @param {string} inputId Element ID of the input file picker element.\n",
              " * @param {string} outputId Element ID of the output display.\n",
              " * @return {!Iterable<!Object>} Iterable of next steps.\n",
              " */\n",
              "function* uploadFilesStep(inputId, outputId) {\n",
              "  const inputElement = document.getElementById(inputId);\n",
              "  inputElement.disabled = false;\n",
              "\n",
              "  const outputElement = document.getElementById(outputId);\n",
              "  outputElement.innerHTML = '';\n",
              "\n",
              "  const pickedPromise = new Promise((resolve) => {\n",
              "    inputElement.addEventListener('change', (e) => {\n",
              "      resolve(e.target.files);\n",
              "    });\n",
              "  });\n",
              "\n",
              "  const cancel = document.createElement('button');\n",
              "  inputElement.parentElement.appendChild(cancel);\n",
              "  cancel.textContent = 'Cancel upload';\n",
              "  const cancelPromise = new Promise((resolve) => {\n",
              "    cancel.onclick = () => {\n",
              "      resolve(null);\n",
              "    };\n",
              "  });\n",
              "\n",
              "  // Wait for the user to pick the files.\n",
              "  const files = yield {\n",
              "    promise: Promise.race([pickedPromise, cancelPromise]),\n",
              "    response: {\n",
              "      action: 'starting',\n",
              "    }\n",
              "  };\n",
              "\n",
              "  cancel.remove();\n",
              "\n",
              "  // Disable the input element since further picks are not allowed.\n",
              "  inputElement.disabled = true;\n",
              "\n",
              "  if (!files) {\n",
              "    return {\n",
              "      response: {\n",
              "        action: 'complete',\n",
              "      }\n",
              "    };\n",
              "  }\n",
              "\n",
              "  for (const file of files) {\n",
              "    const li = document.createElement('li');\n",
              "    li.append(span(file.name, {fontWeight: 'bold'}));\n",
              "    li.append(span(\n",
              "        `(${file.type || 'n/a'}) - ${file.size} bytes, ` +\n",
              "        `last modified: ${\n",
              "            file.lastModifiedDate ? file.lastModifiedDate.toLocaleDateString() :\n",
              "                                    'n/a'} - `));\n",
              "    const percent = span('0% done');\n",
              "    li.appendChild(percent);\n",
              "\n",
              "    outputElement.appendChild(li);\n",
              "\n",
              "    const fileDataPromise = new Promise((resolve) => {\n",
              "      const reader = new FileReader();\n",
              "      reader.onload = (e) => {\n",
              "        resolve(e.target.result);\n",
              "      };\n",
              "      reader.readAsArrayBuffer(file);\n",
              "    });\n",
              "    // Wait for the data to be ready.\n",
              "    let fileData = yield {\n",
              "      promise: fileDataPromise,\n",
              "      response: {\n",
              "        action: 'continue',\n",
              "      }\n",
              "    };\n",
              "\n",
              "    // Use a chunked sending to avoid message size limits. See b/62115660.\n",
              "    let position = 0;\n",
              "    do {\n",
              "      const length = Math.min(fileData.byteLength - position, MAX_PAYLOAD_SIZE);\n",
              "      const chunk = new Uint8Array(fileData, position, length);\n",
              "      position += length;\n",
              "\n",
              "      const base64 = btoa(String.fromCharCode.apply(null, chunk));\n",
              "      yield {\n",
              "        response: {\n",
              "          action: 'append',\n",
              "          file: file.name,\n",
              "          data: base64,\n",
              "        },\n",
              "      };\n",
              "\n",
              "      let percentDone = fileData.byteLength === 0 ?\n",
              "          100 :\n",
              "          Math.round((position / fileData.byteLength) * 100);\n",
              "      percent.textContent = `${percentDone}% done`;\n",
              "\n",
              "    } while (position < fileData.byteLength);\n",
              "  }\n",
              "\n",
              "  // All done.\n",
              "  yield {\n",
              "    response: {\n",
              "      action: 'complete',\n",
              "    }\n",
              "  };\n",
              "}\n",
              "\n",
              "scope.google = scope.google || {};\n",
              "scope.google.colab = scope.google.colab || {};\n",
              "scope.google.colab._files = {\n",
              "  _uploadFiles,\n",
              "  _uploadFilesContinue,\n",
              "};\n",
              "})(self);\n",
              "</script> "
            ]
          },
          "metadata": {}
        },
        {
          "output_type": "stream",
          "name": "stderr",
          "text": [
            "Downloading data from 'https://github.com/danielgatis/rembg/releases/download/v0.0.0/u2net.onnx' to file '/root/.u2net/u2net.onnx'.\n"
          ]
        },
        {
          "output_type": "stream",
          "name": "stdout",
          "text": [
            "Saving 3d-art-clay-style-boy-wearing-dark-blue-shirt-wearing-glasses--walking.jpeg to 3d-art-clay-style-boy-wearing-dark-blue-shirt-wearing-glasses--walking.jpeg\n"
          ]
        },
        {
          "output_type": "stream",
          "name": "stderr",
          "text": [
            "100%|████████████████████████████████████████| 176M/176M [00:00<00:00, 135GB/s]\n"
          ]
        },
        {
          "output_type": "stream",
          "name": "stdout",
          "text": [
            "*************** EP Error ***************\n",
            "EP Error /onnxruntime_src/onnxruntime/python/onnxruntime_pybind_state.cc:507 void onnxruntime::python::RegisterTensorRTPluginsAsCustomOps(PySessionOptions&, const onnxruntime::ProviderOptions&) Please install TensorRT libraries as mentioned in the GPU requirements page, make sure they're in the PATH or LD_LIBRARY_PATH, and that your GPU is supported.\n",
            " when using ['TensorrtExecutionProvider', 'CUDAExecutionProvider', 'CPUExecutionProvider']\n",
            "Falling back to ['CUDAExecutionProvider', 'CPUExecutionProvider'] and retrying.\n",
            "****************************************\n",
            "Saved to: /content/drive/My Drive/background_removal/output/layered_3d-art-clay-style-boy-wearing-dark-blue-shirt-wearing-glasses--walking.png\n"
          ]
        },
        {
          "output_type": "display_data",
          "data": {
            "text/plain": [
              "<IPython.core.display.Javascript object>"
            ],
            "application/javascript": [
              "\n",
              "    async function download(id, filename, size) {\n",
              "      if (!google.colab.kernel.accessAllowed) {\n",
              "        return;\n",
              "      }\n",
              "      const div = document.createElement('div');\n",
              "      const label = document.createElement('label');\n",
              "      label.textContent = `Downloading \"${filename}\": `;\n",
              "      div.appendChild(label);\n",
              "      const progress = document.createElement('progress');\n",
              "      progress.max = size;\n",
              "      div.appendChild(progress);\n",
              "      document.body.appendChild(div);\n",
              "\n",
              "      const buffers = [];\n",
              "      let downloaded = 0;\n",
              "\n",
              "      const channel = await google.colab.kernel.comms.open(id);\n",
              "      // Send a message to notify the kernel that we're ready.\n",
              "      channel.send({})\n",
              "\n",
              "      for await (const message of channel.messages) {\n",
              "        // Send a message to notify the kernel that we're ready.\n",
              "        channel.send({})\n",
              "        if (message.buffers) {\n",
              "          for (const buffer of message.buffers) {\n",
              "            buffers.push(buffer);\n",
              "            downloaded += buffer.byteLength;\n",
              "            progress.value = downloaded;\n",
              "          }\n",
              "        }\n",
              "      }\n",
              "      const blob = new Blob(buffers, {type: 'application/binary'});\n",
              "      const a = document.createElement('a');\n",
              "      a.href = window.URL.createObjectURL(blob);\n",
              "      a.download = filename;\n",
              "      div.appendChild(a);\n",
              "      a.click();\n",
              "      div.remove();\n",
              "    }\n",
              "  "
            ]
          },
          "metadata": {}
        },
        {
          "output_type": "display_data",
          "data": {
            "text/plain": [
              "<IPython.core.display.Javascript object>"
            ],
            "application/javascript": [
              "download(\"download_4bcffcaf-2a15-47f2-b4a8-593504778079\", \"layered_3d-art-clay-style-boy-wearing-dark-blue-shirt-wearing-glasses--walking.png\", 297593)"
            ]
          },
          "metadata": {}
        }
      ]
    },
    {
      "cell_type": "code",
      "source": [
        "import rembg\n",
        "print(rembg.__version__)\n",
        "#2.0.60\n",
        "\n"
      ],
      "metadata": {
        "colab": {
          "base_uri": "https://localhost:8080/"
        },
        "id": "aiqF0Bp60SRZ",
        "outputId": "424f8192-fe53-43b7-8e05-6859c181c5d4"
      },
      "execution_count": 7,
      "outputs": [
        {
          "output_type": "stream",
          "name": "stdout",
          "text": [
            "2.0.60\n"
          ]
        }
      ]
    },
    {
      "cell_type": "code",
      "source": [
        "import onnxruntime\n",
        "print(onnxruntime.__version__)\n",
        "#1.20.1"
      ],
      "metadata": {
        "colab": {
          "base_uri": "https://localhost:8080/"
        },
        "id": "tiJObNot0icp",
        "outputId": "e9562871-1397-4a1d-95ab-a4963331fa6a"
      },
      "execution_count": 8,
      "outputs": [
        {
          "output_type": "stream",
          "name": "stdout",
          "text": [
            "1.20.1\n"
          ]
        }
      ]
    },
    {
      "cell_type": "code",
      "source": [
        "from PIL import Image\n",
        "print(Image.__version__)\n",
        "#11.0.0\n",
        "\n"
      ],
      "metadata": {
        "colab": {
          "base_uri": "https://localhost:8080/"
        },
        "id": "d-gH9_1B0yCp",
        "outputId": "a941abc0-5c7e-47a9-80cd-38668044724f"
      },
      "execution_count": 10,
      "outputs": [
        {
          "output_type": "stream",
          "name": "stdout",
          "text": [
            "11.0.0\n"
          ]
        }
      ]
    },
    {
      "cell_type": "code",
      "source": [
        "!python3 --version\n",
        "#Python 3.10.12"
      ],
      "metadata": {
        "colab": {
          "base_uri": "https://localhost:8080/"
        },
        "id": "6k9nfI0G1H8B",
        "outputId": "0aec0e26-8c8c-4000-b83f-35d0c1c08fff"
      },
      "execution_count": 11,
      "outputs": [
        {
          "output_type": "stream",
          "name": "stdout",
          "text": [
            "Python 3.10.12\n"
          ]
        }
      ]
    }
  ]
}